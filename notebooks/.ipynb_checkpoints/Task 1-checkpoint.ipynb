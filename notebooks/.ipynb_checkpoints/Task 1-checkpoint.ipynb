{
 "cells": [
  {
   "cell_type": "markdown",
   "id": "3f07cc7f",
   "metadata": {},
   "source": [
    "Import libraries"
   ]
  },
  {
   "cell_type": "code",
   "execution_count": 1,
   "id": "e2fbedd8",
   "metadata": {},
   "outputs": [],
   "source": [
    "import pandas as pd\n",
    "import numpy as np\n",
    "import matplotlib.pyplot as plt\n",
    "import seaborn as sns\n",
    "from sklearn.preprocessing import MinMaxScaler\n",
    "from sklearn.preprocessing import StandardScaler\n",
    "from sklearn.decomposition import PCA\n",
    "plt.style.use(\"fivethirtyeight\")"
   ]
  },
  {
   "cell_type": "markdown",
   "id": "98a683ed",
   "metadata": {},
   "source": [
    "Read in Data"
   ]
  },
  {
   "cell_type": "code",
   "execution_count": 2,
   "id": "d7b9b2fc",
   "metadata": {},
   "outputs": [
    {
     "ename": "FileNotFoundError",
     "evalue": "[Errno 2] No such file or directory: 'telco.csv'",
     "output_type": "error",
     "traceback": [
      "\u001b[1;31m---------------------------------------------------------------------------\u001b[0m",
      "\u001b[1;31mFileNotFoundError\u001b[0m                         Traceback (most recent call last)",
      "\u001b[1;32m~\\AppData\\Local\\Temp/ipykernel_9936/3324784694.py\u001b[0m in \u001b[0;36m<module>\u001b[1;34m\u001b[0m\n\u001b[1;32m----> 1\u001b[1;33m \u001b[0mdf\u001b[0m \u001b[1;33m=\u001b[0m \u001b[0mpd\u001b[0m\u001b[1;33m.\u001b[0m\u001b[0mread_csv\u001b[0m\u001b[1;33m(\u001b[0m\u001b[1;34m'telco.csv'\u001b[0m\u001b[1;33m)\u001b[0m\u001b[1;33m\u001b[0m\u001b[1;33m\u001b[0m\u001b[0m\n\u001b[0m",
      "\u001b[1;32m~\\AppData\\Local\\Programs\\Python\\Python39\\lib\\site-packages\\pandas\\util\\_decorators.py\u001b[0m in \u001b[0;36mwrapper\u001b[1;34m(*args, **kwargs)\u001b[0m\n\u001b[0;32m    309\u001b[0m                     \u001b[0mstacklevel\u001b[0m\u001b[1;33m=\u001b[0m\u001b[0mstacklevel\u001b[0m\u001b[1;33m,\u001b[0m\u001b[1;33m\u001b[0m\u001b[1;33m\u001b[0m\u001b[0m\n\u001b[0;32m    310\u001b[0m                 )\n\u001b[1;32m--> 311\u001b[1;33m             \u001b[1;32mreturn\u001b[0m \u001b[0mfunc\u001b[0m\u001b[1;33m(\u001b[0m\u001b[1;33m*\u001b[0m\u001b[0margs\u001b[0m\u001b[1;33m,\u001b[0m \u001b[1;33m**\u001b[0m\u001b[0mkwargs\u001b[0m\u001b[1;33m)\u001b[0m\u001b[1;33m\u001b[0m\u001b[1;33m\u001b[0m\u001b[0m\n\u001b[0m\u001b[0;32m    312\u001b[0m \u001b[1;33m\u001b[0m\u001b[0m\n\u001b[0;32m    313\u001b[0m         \u001b[1;32mreturn\u001b[0m \u001b[0mwrapper\u001b[0m\u001b[1;33m\u001b[0m\u001b[1;33m\u001b[0m\u001b[0m\n",
      "\u001b[1;32m~\\AppData\\Local\\Programs\\Python\\Python39\\lib\\site-packages\\pandas\\io\\parsers\\readers.py\u001b[0m in \u001b[0;36mread_csv\u001b[1;34m(filepath_or_buffer, sep, delimiter, header, names, index_col, usecols, squeeze, prefix, mangle_dupe_cols, dtype, engine, converters, true_values, false_values, skipinitialspace, skiprows, skipfooter, nrows, na_values, keep_default_na, na_filter, verbose, skip_blank_lines, parse_dates, infer_datetime_format, keep_date_col, date_parser, dayfirst, cache_dates, iterator, chunksize, compression, thousands, decimal, lineterminator, quotechar, quoting, doublequote, escapechar, comment, encoding, encoding_errors, dialect, error_bad_lines, warn_bad_lines, on_bad_lines, delim_whitespace, low_memory, memory_map, float_precision, storage_options)\u001b[0m\n\u001b[0;32m    584\u001b[0m     \u001b[0mkwds\u001b[0m\u001b[1;33m.\u001b[0m\u001b[0mupdate\u001b[0m\u001b[1;33m(\u001b[0m\u001b[0mkwds_defaults\u001b[0m\u001b[1;33m)\u001b[0m\u001b[1;33m\u001b[0m\u001b[1;33m\u001b[0m\u001b[0m\n\u001b[0;32m    585\u001b[0m \u001b[1;33m\u001b[0m\u001b[0m\n\u001b[1;32m--> 586\u001b[1;33m     \u001b[1;32mreturn\u001b[0m \u001b[0m_read\u001b[0m\u001b[1;33m(\u001b[0m\u001b[0mfilepath_or_buffer\u001b[0m\u001b[1;33m,\u001b[0m \u001b[0mkwds\u001b[0m\u001b[1;33m)\u001b[0m\u001b[1;33m\u001b[0m\u001b[1;33m\u001b[0m\u001b[0m\n\u001b[0m\u001b[0;32m    587\u001b[0m \u001b[1;33m\u001b[0m\u001b[0m\n\u001b[0;32m    588\u001b[0m \u001b[1;33m\u001b[0m\u001b[0m\n",
      "\u001b[1;32m~\\AppData\\Local\\Programs\\Python\\Python39\\lib\\site-packages\\pandas\\io\\parsers\\readers.py\u001b[0m in \u001b[0;36m_read\u001b[1;34m(filepath_or_buffer, kwds)\u001b[0m\n\u001b[0;32m    480\u001b[0m \u001b[1;33m\u001b[0m\u001b[0m\n\u001b[0;32m    481\u001b[0m     \u001b[1;31m# Create the parser.\u001b[0m\u001b[1;33m\u001b[0m\u001b[1;33m\u001b[0m\u001b[0m\n\u001b[1;32m--> 482\u001b[1;33m     \u001b[0mparser\u001b[0m \u001b[1;33m=\u001b[0m \u001b[0mTextFileReader\u001b[0m\u001b[1;33m(\u001b[0m\u001b[0mfilepath_or_buffer\u001b[0m\u001b[1;33m,\u001b[0m \u001b[1;33m**\u001b[0m\u001b[0mkwds\u001b[0m\u001b[1;33m)\u001b[0m\u001b[1;33m\u001b[0m\u001b[1;33m\u001b[0m\u001b[0m\n\u001b[0m\u001b[0;32m    483\u001b[0m \u001b[1;33m\u001b[0m\u001b[0m\n\u001b[0;32m    484\u001b[0m     \u001b[1;32mif\u001b[0m \u001b[0mchunksize\u001b[0m \u001b[1;32mor\u001b[0m \u001b[0miterator\u001b[0m\u001b[1;33m:\u001b[0m\u001b[1;33m\u001b[0m\u001b[1;33m\u001b[0m\u001b[0m\n",
      "\u001b[1;32m~\\AppData\\Local\\Programs\\Python\\Python39\\lib\\site-packages\\pandas\\io\\parsers\\readers.py\u001b[0m in \u001b[0;36m__init__\u001b[1;34m(self, f, engine, **kwds)\u001b[0m\n\u001b[0;32m    809\u001b[0m             \u001b[0mself\u001b[0m\u001b[1;33m.\u001b[0m\u001b[0moptions\u001b[0m\u001b[1;33m[\u001b[0m\u001b[1;34m\"has_index_names\"\u001b[0m\u001b[1;33m]\u001b[0m \u001b[1;33m=\u001b[0m \u001b[0mkwds\u001b[0m\u001b[1;33m[\u001b[0m\u001b[1;34m\"has_index_names\"\u001b[0m\u001b[1;33m]\u001b[0m\u001b[1;33m\u001b[0m\u001b[1;33m\u001b[0m\u001b[0m\n\u001b[0;32m    810\u001b[0m \u001b[1;33m\u001b[0m\u001b[0m\n\u001b[1;32m--> 811\u001b[1;33m         \u001b[0mself\u001b[0m\u001b[1;33m.\u001b[0m\u001b[0m_engine\u001b[0m \u001b[1;33m=\u001b[0m \u001b[0mself\u001b[0m\u001b[1;33m.\u001b[0m\u001b[0m_make_engine\u001b[0m\u001b[1;33m(\u001b[0m\u001b[0mself\u001b[0m\u001b[1;33m.\u001b[0m\u001b[0mengine\u001b[0m\u001b[1;33m)\u001b[0m\u001b[1;33m\u001b[0m\u001b[1;33m\u001b[0m\u001b[0m\n\u001b[0m\u001b[0;32m    812\u001b[0m \u001b[1;33m\u001b[0m\u001b[0m\n\u001b[0;32m    813\u001b[0m     \u001b[1;32mdef\u001b[0m \u001b[0mclose\u001b[0m\u001b[1;33m(\u001b[0m\u001b[0mself\u001b[0m\u001b[1;33m)\u001b[0m\u001b[1;33m:\u001b[0m\u001b[1;33m\u001b[0m\u001b[1;33m\u001b[0m\u001b[0m\n",
      "\u001b[1;32m~\\AppData\\Local\\Programs\\Python\\Python39\\lib\\site-packages\\pandas\\io\\parsers\\readers.py\u001b[0m in \u001b[0;36m_make_engine\u001b[1;34m(self, engine)\u001b[0m\n\u001b[0;32m   1038\u001b[0m             )\n\u001b[0;32m   1039\u001b[0m         \u001b[1;31m# error: Too many arguments for \"ParserBase\"\u001b[0m\u001b[1;33m\u001b[0m\u001b[1;33m\u001b[0m\u001b[0m\n\u001b[1;32m-> 1040\u001b[1;33m         \u001b[1;32mreturn\u001b[0m \u001b[0mmapping\u001b[0m\u001b[1;33m[\u001b[0m\u001b[0mengine\u001b[0m\u001b[1;33m]\u001b[0m\u001b[1;33m(\u001b[0m\u001b[0mself\u001b[0m\u001b[1;33m.\u001b[0m\u001b[0mf\u001b[0m\u001b[1;33m,\u001b[0m \u001b[1;33m**\u001b[0m\u001b[0mself\u001b[0m\u001b[1;33m.\u001b[0m\u001b[0moptions\u001b[0m\u001b[1;33m)\u001b[0m  \u001b[1;31m# type: ignore[call-arg]\u001b[0m\u001b[1;33m\u001b[0m\u001b[1;33m\u001b[0m\u001b[0m\n\u001b[0m\u001b[0;32m   1041\u001b[0m \u001b[1;33m\u001b[0m\u001b[0m\n\u001b[0;32m   1042\u001b[0m     \u001b[1;32mdef\u001b[0m \u001b[0m_failover_to_python\u001b[0m\u001b[1;33m(\u001b[0m\u001b[0mself\u001b[0m\u001b[1;33m)\u001b[0m\u001b[1;33m:\u001b[0m\u001b[1;33m\u001b[0m\u001b[1;33m\u001b[0m\u001b[0m\n",
      "\u001b[1;32m~\\AppData\\Local\\Programs\\Python\\Python39\\lib\\site-packages\\pandas\\io\\parsers\\c_parser_wrapper.py\u001b[0m in \u001b[0;36m__init__\u001b[1;34m(self, src, **kwds)\u001b[0m\n\u001b[0;32m     49\u001b[0m \u001b[1;33m\u001b[0m\u001b[0m\n\u001b[0;32m     50\u001b[0m         \u001b[1;31m# open handles\u001b[0m\u001b[1;33m\u001b[0m\u001b[1;33m\u001b[0m\u001b[0m\n\u001b[1;32m---> 51\u001b[1;33m         \u001b[0mself\u001b[0m\u001b[1;33m.\u001b[0m\u001b[0m_open_handles\u001b[0m\u001b[1;33m(\u001b[0m\u001b[0msrc\u001b[0m\u001b[1;33m,\u001b[0m \u001b[0mkwds\u001b[0m\u001b[1;33m)\u001b[0m\u001b[1;33m\u001b[0m\u001b[1;33m\u001b[0m\u001b[0m\n\u001b[0m\u001b[0;32m     52\u001b[0m         \u001b[1;32massert\u001b[0m \u001b[0mself\u001b[0m\u001b[1;33m.\u001b[0m\u001b[0mhandles\u001b[0m \u001b[1;32mis\u001b[0m \u001b[1;32mnot\u001b[0m \u001b[1;32mNone\u001b[0m\u001b[1;33m\u001b[0m\u001b[1;33m\u001b[0m\u001b[0m\n\u001b[0;32m     53\u001b[0m \u001b[1;33m\u001b[0m\u001b[0m\n",
      "\u001b[1;32m~\\AppData\\Local\\Programs\\Python\\Python39\\lib\\site-packages\\pandas\\io\\parsers\\base_parser.py\u001b[0m in \u001b[0;36m_open_handles\u001b[1;34m(self, src, kwds)\u001b[0m\n\u001b[0;32m    220\u001b[0m         \u001b[0mLet\u001b[0m \u001b[0mthe\u001b[0m \u001b[0mreaders\u001b[0m \u001b[0mopen\u001b[0m \u001b[0mIOHandles\u001b[0m \u001b[0mafter\u001b[0m \u001b[0mthey\u001b[0m \u001b[0mare\u001b[0m \u001b[0mdone\u001b[0m \u001b[1;32mwith\u001b[0m \u001b[0mtheir\u001b[0m \u001b[0mpotential\u001b[0m \u001b[0mraises\u001b[0m\u001b[1;33m.\u001b[0m\u001b[1;33m\u001b[0m\u001b[1;33m\u001b[0m\u001b[0m\n\u001b[0;32m    221\u001b[0m         \"\"\"\n\u001b[1;32m--> 222\u001b[1;33m         self.handles = get_handle(\n\u001b[0m\u001b[0;32m    223\u001b[0m             \u001b[0msrc\u001b[0m\u001b[1;33m,\u001b[0m\u001b[1;33m\u001b[0m\u001b[1;33m\u001b[0m\u001b[0m\n\u001b[0;32m    224\u001b[0m             \u001b[1;34m\"r\"\u001b[0m\u001b[1;33m,\u001b[0m\u001b[1;33m\u001b[0m\u001b[1;33m\u001b[0m\u001b[0m\n",
      "\u001b[1;32m~\\AppData\\Local\\Programs\\Python\\Python39\\lib\\site-packages\\pandas\\io\\common.py\u001b[0m in \u001b[0;36mget_handle\u001b[1;34m(path_or_buf, mode, encoding, compression, memory_map, is_text, errors, storage_options)\u001b[0m\n\u001b[0;32m    700\u001b[0m         \u001b[1;32mif\u001b[0m \u001b[0mioargs\u001b[0m\u001b[1;33m.\u001b[0m\u001b[0mencoding\u001b[0m \u001b[1;32mand\u001b[0m \u001b[1;34m\"b\"\u001b[0m \u001b[1;32mnot\u001b[0m \u001b[1;32min\u001b[0m \u001b[0mioargs\u001b[0m\u001b[1;33m.\u001b[0m\u001b[0mmode\u001b[0m\u001b[1;33m:\u001b[0m\u001b[1;33m\u001b[0m\u001b[1;33m\u001b[0m\u001b[0m\n\u001b[0;32m    701\u001b[0m             \u001b[1;31m# Encoding\u001b[0m\u001b[1;33m\u001b[0m\u001b[1;33m\u001b[0m\u001b[0m\n\u001b[1;32m--> 702\u001b[1;33m             handle = open(\n\u001b[0m\u001b[0;32m    703\u001b[0m                 \u001b[0mhandle\u001b[0m\u001b[1;33m,\u001b[0m\u001b[1;33m\u001b[0m\u001b[1;33m\u001b[0m\u001b[0m\n\u001b[0;32m    704\u001b[0m                 \u001b[0mioargs\u001b[0m\u001b[1;33m.\u001b[0m\u001b[0mmode\u001b[0m\u001b[1;33m,\u001b[0m\u001b[1;33m\u001b[0m\u001b[1;33m\u001b[0m\u001b[0m\n",
      "\u001b[1;31mFileNotFoundError\u001b[0m: [Errno 2] No such file or directory: 'telco.csv'"
     ]
    }
   ],
   "source": [
    "df = pd.read_csv('telco.csv')"
   ]
  },
  {
   "cell_type": "markdown",
   "id": "20e83970",
   "metadata": {},
   "source": [
    "Check Data"
   ]
  },
  {
   "cell_type": "code",
   "execution_count": null,
   "id": "57630783",
   "metadata": {},
   "outputs": [],
   "source": [
    "df.head(20)"
   ]
  },
  {
   "cell_type": "markdown",
   "id": "260e16f5",
   "metadata": {},
   "source": [
    "Check Missing values"
   ]
  },
  {
   "cell_type": "code",
   "execution_count": null,
   "id": "c6fa277f",
   "metadata": {},
   "outputs": [],
   "source": [
    "df.isnull().sum()"
   ]
  },
  {
   "cell_type": "markdown",
   "id": "ace58469",
   "metadata": {},
   "source": [
    "Drop rows with missing values in MSISDN/Number and Bearer ID"
   ]
  },
  {
   "cell_type": "code",
   "execution_count": null,
   "id": "c44111fc",
   "metadata": {},
   "outputs": [],
   "source": [
    "df = df[df['MSISDN/Number'].notna()]"
   ]
  },
  {
   "cell_type": "code",
   "execution_count": null,
   "id": "b2070159",
   "metadata": {},
   "outputs": [],
   "source": [
    "df = df[df['Bearer Id'].notna()]"
   ]
  },
  {
   "cell_type": "code",
   "execution_count": null,
   "id": "3245a8cc",
   "metadata": {},
   "outputs": [],
   "source": [
    "df = df.reset_index()"
   ]
  },
  {
   "cell_type": "code",
   "execution_count": null,
   "id": "4cd3c8b5",
   "metadata": {},
   "outputs": [],
   "source": [
    "df.isnull().sum()"
   ]
  },
  {
   "cell_type": "markdown",
   "id": "092f9d4b",
   "metadata": {},
   "source": [
    "Duplicate df"
   ]
  },
  {
   "cell_type": "code",
   "execution_count": 3,
   "id": "954a0d5f",
   "metadata": {},
   "outputs": [
    {
     "ename": "NameError",
     "evalue": "name 'df' is not defined",
     "output_type": "error",
     "traceback": [
      "\u001b[1;31m---------------------------------------------------------------------------\u001b[0m",
      "\u001b[1;31mNameError\u001b[0m                                 Traceback (most recent call last)",
      "\u001b[1;32m~\\AppData\\Local\\Temp/ipykernel_9936/3955625454.py\u001b[0m in \u001b[0;36m<module>\u001b[1;34m\u001b[0m\n\u001b[1;32m----> 1\u001b[1;33m \u001b[0mDf\u001b[0m \u001b[1;33m=\u001b[0m \u001b[0mdf\u001b[0m\u001b[1;33m\u001b[0m\u001b[1;33m\u001b[0m\u001b[0m\n\u001b[0m",
      "\u001b[1;31mNameError\u001b[0m: name 'df' is not defined"
     ]
    }
   ],
   "source": [
    "Df = df\n"
   ]
  },
  {
   "cell_type": "markdown",
   "id": "e1193e0c",
   "metadata": {},
   "source": [
    "sort columns to categorical and numerical."
   ]
  },
  {
   "cell_type": "code",
   "execution_count": 4,
   "id": "a9ca88a3",
   "metadata": {},
   "outputs": [],
   "source": [
    "num_cols = []\n",
    "categorical_cols = []"
   ]
  },
  {
   "cell_type": "code",
   "execution_count": 5,
   "id": "3bd2b6d9",
   "metadata": {},
   "outputs": [],
   "source": [
    "def sort_cols(data):\n",
    "\n",
    "\n",
    "    for i in data.columns:\n",
    "        if data[i].dtypes == \"object\":\n",
    "            categorical_cols.append(i)\n",
    "        else :\n",
    "            num_cols.append(i)"
   ]
  },
  {
   "cell_type": "code",
   "execution_count": null,
   "id": "40812108",
   "metadata": {},
   "outputs": [],
   "source": []
  },
  {
   "cell_type": "code",
   "execution_count": 6,
   "id": "c4422dbf",
   "metadata": {},
   "outputs": [
    {
     "ename": "NameError",
     "evalue": "name 'df' is not defined",
     "output_type": "error",
     "traceback": [
      "\u001b[1;31m---------------------------------------------------------------------------\u001b[0m",
      "\u001b[1;31mNameError\u001b[0m                                 Traceback (most recent call last)",
      "\u001b[1;32m~\\AppData\\Local\\Temp/ipykernel_9936/2864202505.py\u001b[0m in \u001b[0;36m<module>\u001b[1;34m\u001b[0m\n\u001b[1;32m----> 1\u001b[1;33m \u001b[0msort_cols\u001b[0m\u001b[1;33m(\u001b[0m\u001b[0mdf\u001b[0m\u001b[1;33m)\u001b[0m\u001b[1;33m\u001b[0m\u001b[1;33m\u001b[0m\u001b[0m\n\u001b[0m",
      "\u001b[1;31mNameError\u001b[0m: name 'df' is not defined"
     ]
    }
   ],
   "source": [
    "sort_cols(df)"
   ]
  },
  {
   "cell_type": "markdown",
   "id": "286bfa14",
   "metadata": {},
   "source": [
    "Scale using standard scaler"
   ]
  },
  {
   "cell_type": "code",
   "execution_count": null,
   "id": "b05b4202",
   "metadata": {},
   "outputs": [],
   "source": [
    "\n",
    "df[num_cols] = StandardScaler().fit_transform(df[num_cols])"
   ]
  },
  {
   "cell_type": "markdown",
   "id": "1548414d",
   "metadata": {},
   "source": [
    "Fix missing values"
   ]
  },
  {
   "cell_type": "code",
   "execution_count": null,
   "id": "623faaf0",
   "metadata": {},
   "outputs": [],
   "source": [
    "def fix_cat_cols(data,cat_columns):\n",
    "    for i in cat_columns:\n",
    "        data[i] = data[i].fillna(data[i].mode()[0])"
   ]
  },
  {
   "cell_type": "code",
   "execution_count": null,
   "id": "0097f711",
   "metadata": {},
   "outputs": [],
   "source": [
    "fix_cat_cols(df,categorical_cols)"
   ]
  },
  {
   "cell_type": "code",
   "execution_count": 7,
   "id": "a4d4ed2f",
   "metadata": {},
   "outputs": [],
   "source": [
    "def fix_num_cols(data,num_columns):\n",
    "    for i in num_columns:\n",
    "        data[i] = data[i].fillna(data[i].mean())"
   ]
  },
  {
   "cell_type": "code",
   "execution_count": 8,
   "id": "648faab6",
   "metadata": {},
   "outputs": [
    {
     "ename": "NameError",
     "evalue": "name 'df' is not defined",
     "output_type": "error",
     "traceback": [
      "\u001b[1;31m---------------------------------------------------------------------------\u001b[0m",
      "\u001b[1;31mNameError\u001b[0m                                 Traceback (most recent call last)",
      "\u001b[1;32m~\\AppData\\Local\\Temp/ipykernel_9936/3405885434.py\u001b[0m in \u001b[0;36m<module>\u001b[1;34m\u001b[0m\n\u001b[1;32m----> 1\u001b[1;33m \u001b[0mfix_num_cols\u001b[0m\u001b[1;33m(\u001b[0m\u001b[0mdf\u001b[0m\u001b[1;33m,\u001b[0m\u001b[0mnum_cols\u001b[0m\u001b[1;33m)\u001b[0m\u001b[1;33m\u001b[0m\u001b[1;33m\u001b[0m\u001b[0m\n\u001b[0m",
      "\u001b[1;31mNameError\u001b[0m: name 'df' is not defined"
     ]
    }
   ],
   "source": [
    "fix_num_cols(df,num_cols)"
   ]
  },
  {
   "cell_type": "markdown",
   "id": "faa60e24",
   "metadata": {},
   "source": [
    "# Task 1\n",
    "\n"
   ]
  },
  {
   "cell_type": "markdown",
   "id": "6db56aa1",
   "metadata": {},
   "source": [
    "## Pre Task\n"
   ]
  },
  {
   "cell_type": "markdown",
   "id": "15b9cc46",
   "metadata": {},
   "source": [
    "Check top ten handsets used by customers"
   ]
  },
  {
   "cell_type": "code",
   "execution_count": null,
   "id": "ec3c896d",
   "metadata": {},
   "outputs": [],
   "source": [
    "Top_10 = df['Handset Type'].value_counts()[:11]"
   ]
  },
  {
   "cell_type": "code",
   "execution_count": null,
   "id": "ee04010c",
   "metadata": {},
   "outputs": [],
   "source": [
    "Top_10 = Top_10.reset_index()"
   ]
  },
  {
   "cell_type": "code",
   "execution_count": null,
   "id": "fc0256b1",
   "metadata": {},
   "outputs": [],
   "source": [
    "Top_10 = Top_10.loc[(Top_10['index']!= 'undefined')]"
   ]
  },
  {
   "cell_type": "code",
   "execution_count": 9,
   "id": "e7595308",
   "metadata": {},
   "outputs": [
    {
     "ename": "NameError",
     "evalue": "name 'Top_10' is not defined",
     "output_type": "error",
     "traceback": [
      "\u001b[1;31m---------------------------------------------------------------------------\u001b[0m",
      "\u001b[1;31mNameError\u001b[0m                                 Traceback (most recent call last)",
      "\u001b[1;32m~\\AppData\\Local\\Temp/ipykernel_9936/1557660265.py\u001b[0m in \u001b[0;36m<module>\u001b[1;34m\u001b[0m\n\u001b[1;32m----> 1\u001b[1;33m \u001b[0mTop_10\u001b[0m\u001b[1;33m[\u001b[0m\u001b[1;34m'Handset Type'\u001b[0m\u001b[1;33m]\u001b[0m \u001b[1;33m=\u001b[0m \u001b[0mTop_10\u001b[0m\u001b[1;33m[\u001b[0m\u001b[1;34m'index'\u001b[0m\u001b[1;33m]\u001b[0m\u001b[1;33m\u001b[0m\u001b[1;33m\u001b[0m\u001b[0m\n\u001b[0m\u001b[0;32m      2\u001b[0m \u001b[0mTop_10\u001b[0m\u001b[1;33m.\u001b[0m\u001b[0mdrop\u001b[0m\u001b[1;33m(\u001b[0m\u001b[1;34m'index'\u001b[0m\u001b[1;33m,\u001b[0m\u001b[0maxis\u001b[0m\u001b[1;33m=\u001b[0m \u001b[1;36m1\u001b[0m\u001b[1;33m,\u001b[0m \u001b[0minplace\u001b[0m \u001b[1;33m=\u001b[0m \u001b[1;32mTrue\u001b[0m\u001b[1;33m)\u001b[0m\u001b[1;33m\u001b[0m\u001b[1;33m\u001b[0m\u001b[0m\n\u001b[0;32m      3\u001b[0m \u001b[0mTop_10\u001b[0m\u001b[1;33m\u001b[0m\u001b[1;33m\u001b[0m\u001b[0m\n",
      "\u001b[1;31mNameError\u001b[0m: name 'Top_10' is not defined"
     ]
    }
   ],
   "source": [
    "Top_10['Handset Type'] = Top_10['index']\n",
    "Top_10.drop('index',axis= 1, inplace = True)\n",
    "Top_10"
   ]
  },
  {
   "cell_type": "markdown",
   "id": "da0d36ea",
   "metadata": {},
   "source": [
    "Check for top three handset manufacturers based on the data"
   ]
  },
  {
   "cell_type": "code",
   "execution_count": null,
   "id": "ab6aa8ba",
   "metadata": {},
   "outputs": [],
   "source": [
    "df['Handset Manufacturer'].value_counts()[:3]"
   ]
  },
  {
   "cell_type": "markdown",
   "id": "edcf9798",
   "metadata": {},
   "source": [
    "Group top five handset type by top three handset manufacturers"
   ]
  },
  {
   "cell_type": "code",
   "execution_count": null,
   "id": "e5dce5a9",
   "metadata": {},
   "outputs": [],
   "source": [
    "Apple = df.loc[(df['Handset Manufacturer']== 'Apple') & ((df['Handset Type'] == \"Apple iPhone 6S (A1688)\") \n",
    "                                                         | (df['Handset Type'] == \"Apple iPhone 6 (A1586)\") \n",
    "                                                         | (df['Handset Type'] == \"Apple iPhone 7 (A1778)\") \n",
    "                                                         | (df['Handset Type'] == \"Apple iPhone Se (A1723)\") \n",
    "                                                         | (df[\"Handset Type\"] == \"Apple iPhone 8 (A1905\")),['Handset Manufacturer','Handset Type',]]\n"
   ]
  },
  {
   "cell_type": "code",
   "execution_count": null,
   "id": "7e157b32",
   "metadata": {},
   "outputs": [],
   "source": [
    "\n",
    "Apple.value_counts()[:5]"
   ]
  },
  {
   "cell_type": "code",
   "execution_count": 10,
   "id": "cd963ca1",
   "metadata": {},
   "outputs": [
    {
     "ename": "NameError",
     "evalue": "name 'df' is not defined",
     "output_type": "error",
     "traceback": [
      "\u001b[1;31m---------------------------------------------------------------------------\u001b[0m",
      "\u001b[1;31mNameError\u001b[0m                                 Traceback (most recent call last)",
      "\u001b[1;32m~\\AppData\\Local\\Temp/ipykernel_9936/4079796424.py\u001b[0m in \u001b[0;36m<module>\u001b[1;34m\u001b[0m\n\u001b[1;32m----> 1\u001b[1;33m Samsung = df.loc[(df['Handset Manufacturer']== 'Samsung') & ((df['Handset Type'] == \"Samsung Galaxy S8 (Sm-G950F)\") \n\u001b[0m\u001b[0;32m      2\u001b[0m                                                          \u001b[1;33m|\u001b[0m \u001b[1;33m(\u001b[0m\u001b[0mdf\u001b[0m\u001b[1;33m[\u001b[0m\u001b[1;34m'Handset Type'\u001b[0m\u001b[1;33m]\u001b[0m \u001b[1;33m==\u001b[0m \u001b[1;34m\"Samsung Galaxy A5 Sm-A520F\"\u001b[0m\u001b[1;33m)\u001b[0m\u001b[1;33m\u001b[0m\u001b[1;33m\u001b[0m\u001b[0m\n\u001b[0;32m      3\u001b[0m                                                          \u001b[1;33m|\u001b[0m \u001b[1;33m(\u001b[0m\u001b[0mdf\u001b[0m\u001b[1;33m[\u001b[0m\u001b[1;34m'Handset Type'\u001b[0m\u001b[1;33m]\u001b[0m \u001b[1;33m==\u001b[0m \u001b[1;34m\"Samsung Galaxy J5 (Sm-J530)\"\u001b[0m\u001b[1;33m)\u001b[0m\u001b[1;33m\u001b[0m\u001b[1;33m\u001b[0m\u001b[0m\n\u001b[0;32m      4\u001b[0m                                                          \u001b[1;33m|\u001b[0m \u001b[1;33m(\u001b[0m\u001b[0mdf\u001b[0m\u001b[1;33m[\u001b[0m\u001b[1;34m'Handset Type'\u001b[0m\u001b[1;33m]\u001b[0m \u001b[1;33m==\u001b[0m \u001b[1;34m\"Samsung Galaxy J3 (Sm-J330)\"\u001b[0m\u001b[1;33m)\u001b[0m\u001b[1;33m\u001b[0m\u001b[1;33m\u001b[0m\u001b[0m\n\u001b[0;32m      5\u001b[0m                                                          | (df[\"Handset Type\"] == \"Samsung Galaxy S7 (Sm-G930X)\")),['Handset Manufacturer','Handset Type',]]\n",
      "\u001b[1;31mNameError\u001b[0m: name 'df' is not defined"
     ]
    }
   ],
   "source": [
    "Samsung = df.loc[(df['Handset Manufacturer']== 'Samsung') & ((df['Handset Type'] == \"Samsung Galaxy S8 (Sm-G950F)\") \n",
    "                                                         | (df['Handset Type'] == \"Samsung Galaxy A5 Sm-A520F\") \n",
    "                                                         | (df['Handset Type'] == \"Samsung Galaxy J5 (Sm-J530)\") \n",
    "                                                         | (df['Handset Type'] == \"Samsung Galaxy J3 (Sm-J330)\") \n",
    "                                                         | (df[\"Handset Type\"] == \"Samsung Galaxy S7 (Sm-G930X)\")),['Handset Manufacturer','Handset Type',]]"
   ]
  },
  {
   "cell_type": "code",
   "execution_count": 11,
   "id": "1aeb573a",
   "metadata": {},
   "outputs": [
    {
     "ename": "NameError",
     "evalue": "name 'Samsung' is not defined",
     "output_type": "error",
     "traceback": [
      "\u001b[1;31m---------------------------------------------------------------------------\u001b[0m",
      "\u001b[1;31mNameError\u001b[0m                                 Traceback (most recent call last)",
      "\u001b[1;32m~\\AppData\\Local\\Temp/ipykernel_9936/4032552027.py\u001b[0m in \u001b[0;36m<module>\u001b[1;34m\u001b[0m\n\u001b[1;32m----> 1\u001b[1;33m \u001b[0mSamsung\u001b[0m\u001b[1;33m.\u001b[0m\u001b[0mvalue_counts\u001b[0m\u001b[1;33m(\u001b[0m\u001b[1;33m)\u001b[0m\u001b[1;33m[\u001b[0m\u001b[1;33m:\u001b[0m\u001b[1;36m5\u001b[0m\u001b[1;33m]\u001b[0m\u001b[1;33m\u001b[0m\u001b[1;33m\u001b[0m\u001b[0m\n\u001b[0m",
      "\u001b[1;31mNameError\u001b[0m: name 'Samsung' is not defined"
     ]
    }
   ],
   "source": [
    "Samsung.value_counts()[:5]"
   ]
  },
  {
   "cell_type": "code",
   "execution_count": null,
   "id": "04e6071c",
   "metadata": {},
   "outputs": [],
   "source": [
    "Huawei = df.loc[(df['Handset Manufacturer']== 'Huawei') & ((df['Handset Type'] == \"Huawei B528S-23A\") \n",
    "                                                         | (df['Handset Type'] == \"Huawei E5180\") \n",
    "                                                         | (df['Handset Type'] == \"Huawei P20\") \n",
    "                                                         | (df['Handset Type'] == \"Huawei P20 Lite Huawei Nova 3E\") \n",
    "                                                         | (df[\"Handset Type\"] == \"Huawei Y6 2018\")),['Handset Manufacturer','Handset Type',]]"
   ]
  },
  {
   "cell_type": "code",
   "execution_count": null,
   "id": "ed48312c",
   "metadata": {},
   "outputs": [],
   "source": [
    "Huawei.value_counts()[:5]"
   ]
  },
  {
   "cell_type": "code",
   "execution_count": null,
   "id": "597c861b",
   "metadata": {},
   "outputs": [],
   "source": [
    "top_phones = pd.DataFrame()"
   ]
  },
  {
   "cell_type": "code",
   "execution_count": 12,
   "id": "db11dfb9",
   "metadata": {},
   "outputs": [
    {
     "ename": "NameError",
     "evalue": "name 'Apple' is not defined",
     "output_type": "error",
     "traceback": [
      "\u001b[1;31m---------------------------------------------------------------------------\u001b[0m",
      "\u001b[1;31mNameError\u001b[0m                                 Traceback (most recent call last)",
      "\u001b[1;32m~\\AppData\\Local\\Temp/ipykernel_9936/3711177824.py\u001b[0m in \u001b[0;36m<module>\u001b[1;34m\u001b[0m\n\u001b[1;32m----> 1\u001b[1;33m \u001b[0mtop_phones\u001b[0m\u001b[1;33m[\u001b[0m\u001b[1;34m'Handset Manufacturer'\u001b[0m\u001b[1;33m]\u001b[0m \u001b[1;33m=\u001b[0m \u001b[0mApple\u001b[0m\u001b[1;33m[\u001b[0m\u001b[1;34m'Handset Manufacturer'\u001b[0m\u001b[1;33m]\u001b[0m\u001b[1;33m\u001b[0m\u001b[1;33m\u001b[0m\u001b[0m\n\u001b[0m\u001b[0;32m      2\u001b[0m \u001b[0mtop_phones\u001b[0m\u001b[1;33m[\u001b[0m\u001b[1;34m'Handset Type'\u001b[0m\u001b[1;33m]\u001b[0m \u001b[1;33m=\u001b[0m \u001b[0mApple\u001b[0m\u001b[1;33m[\u001b[0m\u001b[1;34m'Handset Type'\u001b[0m\u001b[1;33m]\u001b[0m\u001b[1;33m\u001b[0m\u001b[1;33m\u001b[0m\u001b[0m\n",
      "\u001b[1;31mNameError\u001b[0m: name 'Apple' is not defined"
     ]
    }
   ],
   "source": [
    "top_phones['Handset Manufacturer'] = Apple['Handset Manufacturer']\n",
    "top_phones['Handset Type'] = Apple['Handset Type']"
   ]
  },
  {
   "cell_type": "code",
   "execution_count": null,
   "id": "1ee8e611",
   "metadata": {},
   "outputs": [],
   "source": [
    "\n",
    "top_phones = top_phones.merge(Samsung, how = 'outer')\n",
    "top_phones = top_phones.merge(Huawei, how = 'outer')"
   ]
  },
  {
   "cell_type": "code",
   "execution_count": null,
   "id": "5a83f6d6",
   "metadata": {},
   "outputs": [],
   "source": [
    "top_phones"
   ]
  },
  {
   "cell_type": "code",
   "execution_count": null,
   "id": "084f15d5",
   "metadata": {},
   "outputs": [],
   "source": [
    "handset_per_Manu = top_phones.groupby(['Handset Manufacturer','Handset Type'])"
   ]
  },
  {
   "cell_type": "code",
   "execution_count": null,
   "id": "c9715b70",
   "metadata": {},
   "outputs": [],
   "source": [
    "handset_per_Manu.first()"
   ]
  },
  {
   "cell_type": "markdown",
   "id": "c79588c7",
   "metadata": {},
   "source": [
    "This Analysis ascertain the most used handset type to be Huawei B528S-23A followed by other Iphones and Samsung, and Apple is the Handset manufacturer with the most used phone collectively followed by Samsung then Huawei makes up to around 50% of users.\n",
    "\n",
    "It is recommended that policies and advertisement personalised to products from these manufacturers should be put in place"
   ]
  },
  {
   "cell_type": "markdown",
   "id": "2fa2fd10",
   "metadata": {},
   "source": [
    "## Task 1.1\n"
   ]
  },
  {
   "cell_type": "markdown",
   "id": "fbdd6a8c",
   "metadata": {},
   "source": [
    "Scale Data using MinMax Scaler"
   ]
  },
  {
   "cell_type": "code",
   "execution_count": 13,
   "id": "83ff1b5b",
   "metadata": {},
   "outputs": [],
   "source": [
    "\n",
    "#scaler = MinMaxScaler(feature_range=(5, 10))\n",
    "#col_names = [\"IMSI\", \"MSISDN/Number\",\"IMEI\",\"Bearer Id\",\"Dur. (ms)\"]\n",
    "#df[col_names] = scaler.fit_transform(df[col_names])"
   ]
  },
  {
   "cell_type": "markdown",
   "id": "05fde201",
   "metadata": {},
   "source": [
    "Group users by Number of xDR sessions"
   ]
  },
  {
   "cell_type": "code",
   "execution_count": 14,
   "id": "446b0263",
   "metadata": {},
   "outputs": [
    {
     "ename": "NameError",
     "evalue": "name 'df' is not defined",
     "output_type": "error",
     "traceback": [
      "\u001b[1;31m---------------------------------------------------------------------------\u001b[0m",
      "\u001b[1;31mNameError\u001b[0m                                 Traceback (most recent call last)",
      "\u001b[1;32m~\\AppData\\Local\\Temp/ipykernel_9936/2098095861.py\u001b[0m in \u001b[0;36m<module>\u001b[1;34m\u001b[0m\n\u001b[1;32m----> 1\u001b[1;33m \u001b[0muser_per_xDR\u001b[0m \u001b[1;33m=\u001b[0m \u001b[0mdf\u001b[0m\u001b[1;33m.\u001b[0m\u001b[0mgroupby\u001b[0m\u001b[1;33m(\u001b[0m\u001b[1;33m[\u001b[0m\u001b[1;34m'Bearer Id'\u001b[0m\u001b[1;33m]\u001b[0m\u001b[1;33m)\u001b[0m\u001b[1;33m.\u001b[0m\u001b[0magg\u001b[0m\u001b[1;33m(\u001b[0m\u001b[1;33m{\u001b[0m\u001b[1;34m'MSISDN/Number'\u001b[0m\u001b[1;33m:\u001b[0m\u001b[1;34m'count'\u001b[0m\u001b[1;33m}\u001b[0m\u001b[1;33m)\u001b[0m\u001b[1;33m\u001b[0m\u001b[1;33m\u001b[0m\u001b[0m\n\u001b[0m\u001b[0;32m      2\u001b[0m \u001b[0muser_per_xDR\u001b[0m\u001b[1;33m\u001b[0m\u001b[1;33m\u001b[0m\u001b[0m\n",
      "\u001b[1;31mNameError\u001b[0m: name 'df' is not defined"
     ]
    }
   ],
   "source": [
    "user_per_xDR = df.groupby(['Bearer Id']).agg({'MSISDN/Number':'count'})\n",
    "user_per_xDR\n"
   ]
  },
  {
   "cell_type": "markdown",
   "id": "639beac0",
   "metadata": {},
   "source": [
    "Group User by duration of xDR session"
   ]
  },
  {
   "cell_type": "code",
   "execution_count": null,
   "id": "d0141426",
   "metadata": {},
   "outputs": [],
   "source": [
    "user_per_xDR_session = df.groupby(['Dur. (ms)']).agg({'MSISDN/Number':'sum'})\n",
    "user_per_xDR_session"
   ]
  },
  {
   "cell_type": "markdown",
   "id": "819d68ca",
   "metadata": {},
   "source": [
    "Group user by total upload and download data."
   ]
  },
  {
   "cell_type": "code",
   "execution_count": 15,
   "id": "98328806",
   "metadata": {},
   "outputs": [
    {
     "ename": "NameError",
     "evalue": "name 'df' is not defined",
     "output_type": "error",
     "traceback": [
      "\u001b[1;31m---------------------------------------------------------------------------\u001b[0m",
      "\u001b[1;31mNameError\u001b[0m                                 Traceback (most recent call last)",
      "\u001b[1;32m~\\AppData\\Local\\Temp/ipykernel_9936/338050655.py\u001b[0m in \u001b[0;36m<module>\u001b[1;34m\u001b[0m\n\u001b[1;32m----> 1\u001b[1;33m \u001b[0mtotal_UL_DL_per_User\u001b[0m \u001b[1;33m=\u001b[0m \u001b[0mdf\u001b[0m\u001b[1;33m.\u001b[0m\u001b[0mgroupby\u001b[0m\u001b[1;33m(\u001b[0m\u001b[1;33m[\u001b[0m\u001b[1;34m'Total UL (Bytes)'\u001b[0m\u001b[1;33m,\u001b[0m\u001b[1;34m'Total DL (Bytes)'\u001b[0m\u001b[1;33m]\u001b[0m\u001b[1;33m)\u001b[0m\u001b[1;33m.\u001b[0m\u001b[0magg\u001b[0m\u001b[1;33m(\u001b[0m\u001b[1;33m{\u001b[0m\u001b[1;34m'MSISDN/Number'\u001b[0m\u001b[1;33m:\u001b[0m\u001b[1;34m'sum'\u001b[0m\u001b[1;33m}\u001b[0m\u001b[1;33m)\u001b[0m\u001b[1;33m\u001b[0m\u001b[1;33m\u001b[0m\u001b[0m\n\u001b[0m\u001b[0;32m      2\u001b[0m \u001b[0mtotal_UL_DL_per_User\u001b[0m\u001b[1;33m\u001b[0m\u001b[1;33m\u001b[0m\u001b[0m\n",
      "\u001b[1;31mNameError\u001b[0m: name 'df' is not defined"
     ]
    }
   ],
   "source": [
    "total_UL_DL_per_User = df.groupby(['Total UL (Bytes)','Total DL (Bytes)']).agg({'MSISDN/Number':'sum'})\n",
    "total_UL_DL_per_User"
   ]
  },
  {
   "cell_type": "markdown",
   "id": "6ef937a5",
   "metadata": {},
   "source": [
    "Group User by total data volume"
   ]
  },
  {
   "cell_type": "code",
   "execution_count": null,
   "id": "d0fef17d",
   "metadata": {},
   "outputs": [],
   "source": [
    "df['Total_volume (Bytes)'] = df['Total DL (Bytes)'] + df['Total UL (Bytes)']"
   ]
  },
  {
   "cell_type": "code",
   "execution_count": null,
   "id": "80620fe9",
   "metadata": {},
   "outputs": [],
   "source": [
    "Total_volume_per_user = df.groupby(['Total_volume (Bytes)']).agg({'MSISDN/Number':'sum'})\n",
    "Total_volume_per_user"
   ]
  },
  {
   "cell_type": "markdown",
   "id": "dd7c9834",
   "metadata": {},
   "source": [
    "## Task 1.2"
   ]
  },
  {
   "cell_type": "markdown",
   "id": "bd91809f",
   "metadata": {},
   "source": [
    "Scale some columns manually."
   ]
  },
  {
   "cell_type": "code",
   "execution_count": null,
   "id": "dd5c1624",
   "metadata": {},
   "outputs": [],
   "source": [
    "substring = \"(Bytes)\""
   ]
  },
  {
   "cell_type": "code",
   "execution_count": null,
   "id": "d3926030",
   "metadata": {},
   "outputs": [],
   "source": [
    "bytes_first = [j for j in df.columns if substring in j]"
   ]
  },
  {
   "cell_type": "code",
   "execution_count": 16,
   "id": "8e734377",
   "metadata": {},
   "outputs": [
    {
     "ename": "NameError",
     "evalue": "name 'bytes_first' is not defined",
     "output_type": "error",
     "traceback": [
      "\u001b[1;31m---------------------------------------------------------------------------\u001b[0m",
      "\u001b[1;31mNameError\u001b[0m                                 Traceback (most recent call last)",
      "\u001b[1;32m~\\AppData\\Local\\Temp/ipykernel_9936/1255951443.py\u001b[0m in \u001b[0;36m<module>\u001b[1;34m\u001b[0m\n\u001b[1;32m----> 1\u001b[1;33m \u001b[1;32mfor\u001b[0m \u001b[0mi\u001b[0m \u001b[1;32min\u001b[0m  \u001b[0mbytes_first\u001b[0m \u001b[1;33m:\u001b[0m\u001b[1;33m\u001b[0m\u001b[1;33m\u001b[0m\u001b[0m\n\u001b[0m\u001b[0;32m      2\u001b[0m     \u001b[0mdf\u001b[0m\u001b[1;33m[\u001b[0m\u001b[0mi\u001b[0m\u001b[1;33m.\u001b[0m\u001b[0mreplace\u001b[0m\u001b[1;33m(\u001b[0m\u001b[1;34m'(Bytes)'\u001b[0m\u001b[1;33m,\u001b[0m\u001b[1;34m'(MB)'\u001b[0m\u001b[1;33m)\u001b[0m\u001b[1;33m]\u001b[0m \u001b[1;33m=\u001b[0m \u001b[0mdf\u001b[0m\u001b[1;33m[\u001b[0m\u001b[0mi\u001b[0m\u001b[1;33m]\u001b[0m\u001b[1;33m\u001b[0m\u001b[1;33m\u001b[0m\u001b[0m\n\u001b[0;32m      3\u001b[0m     \u001b[0mdf\u001b[0m\u001b[1;33m.\u001b[0m\u001b[0mdrop\u001b[0m\u001b[1;33m(\u001b[0m\u001b[0mi\u001b[0m\u001b[1;33m,\u001b[0m \u001b[0maxis\u001b[0m \u001b[1;33m=\u001b[0m \u001b[1;36m1\u001b[0m\u001b[1;33m,\u001b[0m \u001b[0minplace\u001b[0m \u001b[1;33m=\u001b[0m \u001b[1;32mTrue\u001b[0m\u001b[1;33m)\u001b[0m\u001b[1;33m\u001b[0m\u001b[1;33m\u001b[0m\u001b[0m\n",
      "\u001b[1;31mNameError\u001b[0m: name 'bytes_first' is not defined"
     ]
    }
   ],
   "source": [
    "for i in  bytes_first :\n",
    "    df[i.replace('(Bytes)','(MB)')] = df[i]\n",
    "    df.drop(i, axis = 1, inplace = True)"
   ]
  },
  {
   "cell_type": "code",
   "execution_count": null,
   "id": "1e66e925",
   "metadata": {},
   "outputs": [],
   "source": [
    "df['Social Media data'] = df['Social Media DL (MB)'] + df['Social Media UL (MB)']\n",
    "df['Google data'] = df['Google DL (MB)'] + df['Google UL (MB)']\n",
    "df['Email data'] = df['Email DL (MB)'] + df['Email UL (MB)']\n",
    "df['Youtube data'] = df['Youtube DL (MB)'] + df['Youtube UL (MB)']\n",
    "df['Netflix data'] = df['Netflix DL (MB)'] + df['Netflix UL (MB)']\n",
    "df['Gaming data'] = df['Gaming DL (MB)'] + df['Gaming UL (MB)']\n",
    "df['Other data'] = df['Other DL (MB)'] + df['Other UL (MB)']"
   ]
  },
  {
   "cell_type": "markdown",
   "id": "48034f02",
   "metadata": {},
   "source": [
    "Put relevant columns in a list"
   ]
  },
  {
   "cell_type": "code",
   "execution_count": null,
   "id": "868069e4",
   "metadata": {},
   "outputs": [],
   "source": [
    "relevant_cols = ['Bearer Id','Dur. (ms)','Other data','Gaming data','Youtube data','Netflix data','Email data','Google data','Social Media data','Total UL (MB)','Total DL (MB)','Total_volume (MB)']"
   ]
  },
  {
   "cell_type": "markdown",
   "id": "692eecf7",
   "metadata": {},
   "source": [
    "Sort relevant columns to categorical and numerical."
   ]
  },
  {
   "cell_type": "code",
   "execution_count": null,
   "id": "1650bad1",
   "metadata": {},
   "outputs": [],
   "source": [
    "relevant_num = []\n",
    "relevant_cat = []\n"
   ]
  },
  {
   "cell_type": "code",
   "execution_count": null,
   "id": "053fd831",
   "metadata": {},
   "outputs": [],
   "source": [
    "for cols in relevant_cols:\n",
    "    if df[cols].dtypes == 'object':\n",
    "        relevant_cat.append(cols)\n",
    "    else:\n",
    "        relevant_num.append(cols)"
   ]
  },
  {
   "cell_type": "markdown",
   "id": "64afce22",
   "metadata": {},
   "source": [
    "Non graphical Univariate EDA for numerical relevant columns"
   ]
  },
  {
   "cell_type": "code",
   "execution_count": 17,
   "id": "4bf7c70c",
   "metadata": {},
   "outputs": [
    {
     "ename": "NameError",
     "evalue": "name 'relevant_num' is not defined",
     "output_type": "error",
     "traceback": [
      "\u001b[1;31m---------------------------------------------------------------------------\u001b[0m",
      "\u001b[1;31mNameError\u001b[0m                                 Traceback (most recent call last)",
      "\u001b[1;32m~\\AppData\\Local\\Temp/ipykernel_9936/1153077327.py\u001b[0m in \u001b[0;36m<module>\u001b[1;34m\u001b[0m\n\u001b[1;32m----> 1\u001b[1;33m \u001b[1;32mfor\u001b[0m \u001b[0mcols\u001b[0m \u001b[1;32min\u001b[0m \u001b[0mrelevant_num\u001b[0m\u001b[1;33m:\u001b[0m\u001b[1;33m\u001b[0m\u001b[1;33m\u001b[0m\u001b[0m\n\u001b[0m\u001b[0;32m      2\u001b[0m     \u001b[0mprint\u001b[0m\u001b[1;33m(\u001b[0m\u001b[0mdf\u001b[0m\u001b[1;33m[\u001b[0m\u001b[0mcols\u001b[0m\u001b[1;33m]\u001b[0m\u001b[1;33m.\u001b[0m\u001b[0mdescribe\u001b[0m\u001b[1;33m(\u001b[0m\u001b[1;33m)\u001b[0m\u001b[1;33m)\u001b[0m\u001b[1;33m\u001b[0m\u001b[1;33m\u001b[0m\u001b[0m\n\u001b[0;32m      3\u001b[0m     \u001b[0mprint\u001b[0m\u001b[1;33m(\u001b[0m\u001b[1;34mf\"Column name is {cols}\"\u001b[0m\u001b[1;33m)\u001b[0m\u001b[1;33m\u001b[0m\u001b[1;33m\u001b[0m\u001b[0m\n\u001b[0;32m      4\u001b[0m     \u001b[0mprint\u001b[0m\u001b[1;33m(\u001b[0m\u001b[1;34mf'skewness for this column is {df[cols].skew()}'\u001b[0m\u001b[1;33m)\u001b[0m\u001b[1;33m\u001b[0m\u001b[1;33m\u001b[0m\u001b[0m\n\u001b[0;32m      5\u001b[0m     \u001b[0mprint\u001b[0m\u001b[1;33m(\u001b[0m\u001b[1;34mf'kurtosis for this column is {df[cols].kurtosis()}'\u001b[0m\u001b[1;33m)\u001b[0m\u001b[1;33m\u001b[0m\u001b[1;33m\u001b[0m\u001b[0m\n",
      "\u001b[1;31mNameError\u001b[0m: name 'relevant_num' is not defined"
     ]
    }
   ],
   "source": [
    "for cols in relevant_num:\n",
    "    print(df[cols].describe())\n",
    "    print(f\"Column name is {cols}\")\n",
    "    print(f'skewness for this column is {df[cols].skew()}')\n",
    "    print(f'kurtosis for this column is {df[cols].kurtosis()}')\n",
    "    Q3,Q1 = np.percentile(df[cols], [75,25])\n",
    "    IQR = Q3 - Q1\n",
    "    print(f'The IQR is {IQR}')\n",
    "    print(f'The number of Unique value of column {cols} is : {df[cols].nunique()}')\n",
    "    print('____________________________________________________________________')\n",
    "    "
   ]
  },
  {
   "cell_type": "markdown",
   "id": "7b4bc8f0",
   "metadata": {},
   "source": [
    "Non graphical Univariate EDA for categorical relevant columns"
   ]
  },
  {
   "cell_type": "code",
   "execution_count": null,
   "id": "fb580a3a",
   "metadata": {},
   "outputs": [],
   "source": [
    "for cols in relevant_cat:\n",
    "    print(df[cols].value_counts())\n",
    "    print(df[cols].describe(include=['O']))"
   ]
  },
  {
   "cell_type": "markdown",
   "id": "63701827",
   "metadata": {},
   "source": [
    "Graphical Univariate EDA for numerical relevant columns"
   ]
  },
  {
   "cell_type": "code",
   "execution_count": null,
   "id": "b5d3e8a5",
   "metadata": {},
   "outputs": [],
   "source": [
    "for cols in relevant_num:\n",
    "    sns.boxplot(data=df, x= cols )\n",
    "    plt.show()\n",
    "    sns.kdeplot(data=df, x= cols )\n",
    "    plt.show()\n",
    "    sns.histplot(data=df, x= cols )\n",
    "    plt.show()\n",
    "    print('___________________________________________________________')"
   ]
  },
  {
   "cell_type": "markdown",
   "id": "943d3d9a",
   "metadata": {},
   "source": [
    "Graphical Bivariate EDA for numerial columns"
   ]
  },
  {
   "cell_type": "code",
   "execution_count": null,
   "id": "fbb8db99",
   "metadata": {},
   "outputs": [],
   "source": [
    "subs = '(MB)'"
   ]
  },
  {
   "cell_type": "code",
   "execution_count": 18,
   "id": "b59d9261",
   "metadata": {},
   "outputs": [
    {
     "ename": "NameError",
     "evalue": "name 'relevant_cols' is not defined",
     "output_type": "error",
     "traceback": [
      "\u001b[1;31m---------------------------------------------------------------------------\u001b[0m",
      "\u001b[1;31mNameError\u001b[0m                                 Traceback (most recent call last)",
      "\u001b[1;32m~\\AppData\\Local\\Temp/ipykernel_9936/3417999833.py\u001b[0m in \u001b[0;36m<module>\u001b[1;34m\u001b[0m\n\u001b[1;32m----> 1\u001b[1;33m \u001b[0mrelevant_app\u001b[0m \u001b[1;33m=\u001b[0m \u001b[1;33m[\u001b[0m\u001b[0mj\u001b[0m \u001b[1;32mfor\u001b[0m \u001b[0mj\u001b[0m \u001b[1;32min\u001b[0m \u001b[0mrelevant_cols\u001b[0m \u001b[1;32mif\u001b[0m \u001b[0msubs\u001b[0m \u001b[1;32min\u001b[0m \u001b[0mj\u001b[0m\u001b[1;33m]\u001b[0m\u001b[1;33m\u001b[0m\u001b[1;33m\u001b[0m\u001b[0m\n\u001b[0m",
      "\u001b[1;31mNameError\u001b[0m: name 'relevant_cols' is not defined"
     ]
    }
   ],
   "source": [
    "relevant_app = [j for j in relevant_cols if subs in j]"
   ]
  },
  {
   "cell_type": "code",
   "execution_count": null,
   "id": "cffbc12b",
   "metadata": {},
   "outputs": [],
   "source": [
    "for i in relevant_num:\n",
    "    sns.scatterplot(data=df,x='Total_volume (MB)',y=i,alpha=0.5)\n",
    "    plt.title(f'graph of {i} against Total_Volume (MB)')\n",
    "    plt.xlabel(\"Total_volume (MB)\")\n",
    "    plt.ylabel(i)\n",
    "    plt.show()"
   ]
  },
  {
   "cell_type": "markdown",
   "id": "2c1ff343",
   "metadata": {},
   "source": [
    "Get top 5 deciles of users"
   ]
  },
  {
   "cell_type": "code",
   "execution_count": null,
   "id": "d879bd27",
   "metadata": {},
   "outputs": [],
   "source": [
    "df['top_5_decile_Dur. (MS)'] = pd.qcut(df['Dur. (ms)'], 10,labels=False,duplicates= 'drop')"
   ]
  },
  {
   "cell_type": "code",
   "execution_count": null,
   "id": "d8d3791d",
   "metadata": {},
   "outputs": [],
   "source": [
    "top_5s = []"
   ]
  },
  {
   "cell_type": "code",
   "execution_count": 19,
   "id": "e7dbdc42",
   "metadata": {},
   "outputs": [
    {
     "ename": "NameError",
     "evalue": "name 'df' is not defined",
     "output_type": "error",
     "traceback": [
      "\u001b[1;31m---------------------------------------------------------------------------\u001b[0m",
      "\u001b[1;31mNameError\u001b[0m                                 Traceback (most recent call last)",
      "\u001b[1;32m~\\AppData\\Local\\Temp/ipykernel_9936/3843916524.py\u001b[0m in \u001b[0;36m<module>\u001b[1;34m\u001b[0m\n\u001b[0;32m      1\u001b[0m \u001b[0mNew_df\u001b[0m \u001b[1;33m=\u001b[0m \u001b[0mpd\u001b[0m\u001b[1;33m.\u001b[0m\u001b[0mDataFrame\u001b[0m\u001b[1;33m(\u001b[0m\u001b[1;33m)\u001b[0m\u001b[1;33m\u001b[0m\u001b[1;33m\u001b[0m\u001b[0m\n\u001b[1;32m----> 2\u001b[1;33m \u001b[0mNew_df\u001b[0m\u001b[1;33m[\u001b[0m\u001b[1;34m'total_data_UL+DL'\u001b[0m\u001b[1;33m]\u001b[0m \u001b[1;33m=\u001b[0m \u001b[0mdf\u001b[0m\u001b[1;33m[\u001b[0m\u001b[1;34m'Total_volume (MB)'\u001b[0m\u001b[1;33m]\u001b[0m\u001b[1;33m\u001b[0m\u001b[1;33m\u001b[0m\u001b[0m\n\u001b[0m\u001b[0;32m      3\u001b[0m \u001b[0mNew_df\u001b[0m\u001b[1;33m[\u001b[0m\u001b[1;34m'MSISDN/Number'\u001b[0m\u001b[1;33m]\u001b[0m \u001b[1;33m=\u001b[0m \u001b[0mdf\u001b[0m\u001b[1;33m[\u001b[0m\u001b[1;34m'MSISDN/Number'\u001b[0m\u001b[1;33m]\u001b[0m\u001b[1;33m\u001b[0m\u001b[1;33m\u001b[0m\u001b[0m\n\u001b[0;32m      4\u001b[0m \u001b[0mNew_df\u001b[0m\u001b[1;33m[\u001b[0m\u001b[1;34m'top_5_decile_Dur. (MS)'\u001b[0m\u001b[1;33m]\u001b[0m \u001b[1;33m=\u001b[0m \u001b[0mdf\u001b[0m\u001b[1;33m[\u001b[0m\u001b[1;34m'top_5_decile_Dur. (MS)'\u001b[0m\u001b[1;33m]\u001b[0m\u001b[1;33m\u001b[0m\u001b[1;33m\u001b[0m\u001b[0m\n\u001b[0;32m      5\u001b[0m \u001b[1;33m\u001b[0m\u001b[0m\n",
      "\u001b[1;31mNameError\u001b[0m: name 'df' is not defined"
     ]
    }
   ],
   "source": [
    "New_df = pd.DataFrame()\n",
    "New_df['total_data_UL+DL'] = df['Total_volume (MB)']\n",
    "New_df['MSISDN/Number'] = df['MSISDN/Number']\n",
    "New_df['top_5_decile_Dur. (MS)'] = df['top_5_decile_Dur. (MS)']\n",
    "\n",
    "new_df = New_df.loc[New_df[\"top_5_decile_Dur. (MS)\"]==0,:]\n",
    "new_df1 = New_df.loc[New_df[\"top_5_decile_Dur. (MS)\"]==1,:]\n",
    "new_df2 = New_df.loc[New_df[\"top_5_decile_Dur. (MS)\"]==2,:]\n",
    "new_df3 = New_df.loc[New_df[\"top_5_decile_Dur. (MS)\"]==3,:]\n",
    "new_df4 = New_df.loc[New_df[\"top_5_decile_Dur. (MS)\"]==4,:]\n",
    "\n",
    "new_df = pd.DataFrame(new_df.reset_index())\n",
    "new_df1 = pd.DataFrame(new_df1.reset_index())\n",
    "new_df2 = pd.DataFrame(new_df2.reset_index())\n",
    "new_df3 = pd.DataFrame(new_df3.reset_index())\n",
    "new_df4 = pd.DataFrame(new_df4.reset_index())\n",
    "\n",
    "\n",
    "\n",
    "top_5s.append(new_df)\n",
    "top_5s.append(new_df1)\n",
    "top_5s.append(new_df2)\n",
    "top_5s.append(new_df3)\n",
    "top_5s.append(new_df4)\n",
    "\n",
    "top_5s = pd.concat(top_5s,axis=0)\n",
    "\n",
    "top_5s.drop(\"index\",axis=1,inplace=True)"
   ]
  },
  {
   "cell_type": "code",
   "execution_count": null,
   "id": "00d175f2",
   "metadata": {},
   "outputs": [],
   "source": [
    "df['top_5_decile_Dur. (MS)'].value_counts()"
   ]
  },
  {
   "cell_type": "code",
   "execution_count": null,
   "id": "34c6b2df",
   "metadata": {},
   "outputs": [],
   "source": [
    "top_5s"
   ]
  },
  {
   "cell_type": "code",
   "execution_count": null,
   "id": "a3e42f18",
   "metadata": {},
   "outputs": [],
   "source": [
    "top_5s['top_5_decile_Dur. (MS)'].value_counts()"
   ]
  },
  {
   "cell_type": "markdown",
   "id": "2b5d0f97",
   "metadata": {},
   "source": [
    "Check for correlation of application columns, non graphical Bivariate EDA"
   ]
  },
  {
   "cell_type": "code",
   "execution_count": null,
   "id": "93cafa42",
   "metadata": {},
   "outputs": [],
   "source": [
    "df_data = pd.DataFrame()\n",
    "\n",
    "df_data['Social Media data'] = df['Social Media DL (MB)'] + df['Social Media UL (MB)']\n",
    "df_data['Google data'] = df['Google DL (MB)'] + df['Google UL (MB)']\n",
    "df_data['Email data'] = df['Email DL (MB)'] + df['Email UL (MB)']\n",
    "df_data['Youtube data'] = df['Youtube DL (MB)'] + df['Youtube UL (MB)']\n",
    "df_data['Netflix data'] = df['Netflix DL (MB)'] + df['Netflix UL (MB)']\n",
    "df_data['Gaming data'] = df['Gaming DL (MB)'] + df['Gaming UL (MB)']\n",
    "df_data['Other data'] = df['Other DL (MB)'] + df['Other UL (MB)']\n",
    "\n"
   ]
  },
  {
   "cell_type": "code",
   "execution_count": 20,
   "id": "d2ec9646",
   "metadata": {},
   "outputs": [
    {
     "ename": "NameError",
     "evalue": "name 'df_data' is not defined",
     "output_type": "error",
     "traceback": [
      "\u001b[1;31m---------------------------------------------------------------------------\u001b[0m",
      "\u001b[1;31mNameError\u001b[0m                                 Traceback (most recent call last)",
      "\u001b[1;32m~\\AppData\\Local\\Temp/ipykernel_9936/3880240476.py\u001b[0m in \u001b[0;36m<module>\u001b[1;34m\u001b[0m\n\u001b[1;32m----> 1\u001b[1;33m \u001b[0mdf_data\u001b[0m\u001b[1;33m.\u001b[0m\u001b[0mcorr\u001b[0m\u001b[1;33m(\u001b[0m\u001b[1;33m)\u001b[0m\u001b[1;33m\u001b[0m\u001b[1;33m\u001b[0m\u001b[0m\n\u001b[0m\u001b[0;32m      2\u001b[0m \u001b[1;33m\u001b[0m\u001b[0m\n\u001b[0;32m      3\u001b[0m \u001b[1;33m\u001b[0m\u001b[0m\n",
      "\u001b[1;31mNameError\u001b[0m: name 'df_data' is not defined"
     ]
    }
   ],
   "source": [
    "df_data.corr()\n",
    "\n",
    "\n"
   ]
  },
  {
   "cell_type": "markdown",
   "id": "6a029315",
   "metadata": {},
   "source": [
    "Scale columns using standard scaler"
   ]
  },
  {
   "cell_type": "code",
   "execution_count": null,
   "id": "37da030b",
   "metadata": {},
   "outputs": [],
   "source": [
    "\n",
    "Df.drop(categorical_cols, axis=1, inplace=True)\n",
    "Df = StandardScaler().fit_transform(Df)\n"
   ]
  },
  {
   "cell_type": "markdown",
   "id": "299c5076",
   "metadata": {},
   "source": [
    "Do the principal component analysis (PCA) of the data"
   ]
  },
  {
   "cell_type": "code",
   "execution_count": null,
   "id": "d4240be6",
   "metadata": {},
   "outputs": [],
   "source": [
    "\n",
    "pca = PCA(n_components=3)\n",
    "principalComponents = pca.fit_transform(Df)\n",
    "principalDf = pd.DataFrame(data= principalComponents,columns = ['principal component 1', 'principal component 2','principal component 3'])"
   ]
  },
  {
   "cell_type": "code",
   "execution_count": null,
   "id": "a1f76793",
   "metadata": {},
   "outputs": [],
   "source": [
    "principalDf"
   ]
  },
  {
   "cell_type": "markdown",
   "id": "4a5b50ca",
   "metadata": {},
   "source": [
    "- A reduced dimension as the number of columns reduced to 3 columns.\n",
    "- More variance range because PCA considers differences between variance of columns and favours the ones with higher variance differences.\n",
    "- More importance to instances (rows) since there will be more variance range, the distributions will have more space than before.\n",
    "- Numerical Variables are implemented"
   ]
  },
  {
   "cell_type": "code",
   "execution_count": null,
   "id": "877dcea6",
   "metadata": {},
   "outputs": [],
   "source": []
  }
 ],
 "metadata": {
  "kernelspec": {
   "display_name": "Python 3 (ipykernel)",
   "language": "python",
   "name": "python3"
  },
  "language_info": {
   "codemirror_mode": {
    "name": "ipython",
    "version": 3
   },
   "file_extension": ".py",
   "mimetype": "text/x-python",
   "name": "python",
   "nbconvert_exporter": "python",
   "pygments_lexer": "ipython3",
   "version": "3.9.7"
  }
 },
 "nbformat": 4,
 "nbformat_minor": 5
}
